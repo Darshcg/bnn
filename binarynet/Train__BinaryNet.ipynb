{
  "nbformat": 4,
  "nbformat_minor": 0,
  "metadata": {
    "colab": {
      "name": "Train _BinaryNet.ipynb",
      "version": "0.3.2",
      "provenance": [],
      "collapsed_sections": []
    },
    "kernelspec": {
      "name": "python3",
      "display_name": "Python 3"
    },
    "accelerator": "GPU"
  },
  "cells": [
    {
      "metadata": {
        "id": "j8Pi6JMTQn4y",
        "colab_type": "code",
        "colab": {
          "base_uri": "https://localhost:8080/",
          "height": 34
        },
        "outputId": "aa8605d6-42e0-4e05-b41f-149849ebd8c6"
      },
      "cell_type": "code",
      "source": [
        "import numpy as np\n",
        "\n",
        "import tensorflow as tf\n",
        "import keras.backend as K\n",
        "from keras.datasets import mnist, cifar10\n",
        "from keras.models import Sequential\n",
        "from keras.layers import Dense, Dropout, Activation, BatchNormalization, MaxPooling2D\n",
        "from keras.layers import Flatten\n",
        "from keras.optimizers import SGD, Adam, RMSprop\n",
        "from keras.callbacks import LearningRateScheduler\n",
        "from keras.utils import np_utils"
      ],
      "execution_count": 1,
      "outputs": [
        {
          "output_type": "stream",
          "text": [
            "Using TensorFlow backend.\n"
          ],
          "name": "stderr"
        }
      ]
    },
    {
      "metadata": {
        "id": "BFsfPsqIQzJR",
        "colab_type": "code",
        "colab": {}
      },
      "cell_type": "code",
      "source": [
        "def round_through(x):\n",
        "    '''Element-wise rounding to the closest integer with full gradient propagation.\n",
        "    A trick from [Sergey Ioffe](http://stackoverflow.com/a/36480182)\n",
        "    '''\n",
        "    rounded = K.round(x)\n",
        "    return x + K.stop_gradient(rounded - x)\n",
        "\n",
        "\n",
        "def _hard_sigmoid(x):\n",
        "    '''Hard sigmoid different from the more conventional form (see definition of K.hard_sigmoid).\n",
        "\n",
        "    # Reference:\n",
        "    - [BinaryNet: Training Deep Neural Networks with Weights and Activations Constrained to +1 or -1, Courbariaux et al. 2016](http://arxiv.org/abs/1602.02830}\n",
        "\n",
        "    '''\n",
        "    x = (0.5 * x) + 0.5\n",
        "    return K.clip(x, 0, 1)\n",
        "\n",
        "\n",
        "def binary_sigmoid(x):\n",
        "    '''Binary hard sigmoid for training binarized neural network.\n",
        "\n",
        "    # Reference:\n",
        "    - [BinaryNet: Training Deep Neural Networks with Weights and Activations Constrained to +1 or -1, Courbariaux et al. 2016](http://arxiv.org/abs/1602.02830}\n",
        "\n",
        "    '''\n",
        "    return round_through(_hard_sigmoid(x))\n",
        "\n",
        "\n",
        "def binary_tanh(x):\n",
        "    '''Binary hard sigmoid for training binarized neural network.\n",
        "     The neurons' and weights' activations binarization function\n",
        "     It behaves like the sign function during forward propagation\n",
        "     And like:\n",
        "        hard_tanh(x) = 2 * _hard_sigmoid(x) - 1 \n",
        "        clear gradient when |x| > 1 during back propagation\n",
        "\n",
        "    # Reference:\n",
        "    - [BinaryNet: Training Deep Neural Networks with Weights and Activations Constrained to +1 or -1, Courbariaux et al. 2016](http://arxiv.org/abs/1602.02830}\n",
        "\n",
        "    '''\n",
        "    return 2 * round_through(_hard_sigmoid(x)) - 1"
      ],
      "execution_count": 0,
      "outputs": []
    },
    {
      "metadata": {
        "id": "Ro2y-LqdRAS9",
        "colab_type": "code",
        "colab": {}
      },
      "cell_type": "code",
      "source": [
        "from keras.layers import Dense, Conv2D\n",
        "from keras import constraints\n",
        "from keras import initializers\n",
        "\n",
        "\n",
        "'''Binarized Dense and Convolution2D layers\n",
        "References: \n",
        "\"BinaryNet: Training Deep Neural Networks with Weights and Activations Constrained to +1 or -1\" [http://arxiv.org/abs/1602.02830]\n",
        "'''\n",
        "\n",
        "\n",
        "class Clip(constraints.Constraint):\n",
        "\n",
        "    def __call__(self, p):\n",
        "        return K.clip(p, -1., 1.)\n",
        "\n",
        "\n",
        "class BinaryDense(Dense):\n",
        "\n",
        "    def __init__(self, units, **kwargs):\n",
        "        super(BinaryDense, self).__init__(units, use_bias=False, \n",
        "                                          kernel_initializer=initializers.RandomUniform(-1., 1.),\n",
        "                                          kernel_constraint=Clip(), **kwargs)\n",
        "\n",
        "\n",
        "    def call(self, inputs):\n",
        "        \n",
        "        # 1. Binarize weights\n",
        "        binary_kernel = binary_tanh(self.kernel)\n",
        "        \n",
        "        # 2. Perform matrix multiplication\n",
        "        output = K.dot(inputs, binary_kernel)\n",
        "        return output\n",
        "\n",
        "\n",
        "class BinaryConv2D(Conv2D):\n",
        "\n",
        "    def __init__(self, filters, kernel_size, **kwargs):\n",
        "        super(BinaryConv2D, self).__init__(filters, kernel_size, use_bias=False, padding='same',\n",
        "                                           kernel_initializer=initializers.RandomUniform(-1., 1.),\n",
        "                                           kernel_constraint=Clip(), **kwargs)\n",
        "        \n",
        "    def call(self, inputs):\n",
        "        \n",
        "        # 1. Binarize weights\n",
        "        binary_kernel = binary_tanh(self.kernel)\n",
        "        \n",
        "        if self.padding == 'same':\n",
        "            # ones padding instead of zero padding (to keep the whole network real binary)\n",
        "            kh = self.kernel_size // 2 if type(self.kernel_size) == int else self.kernel_size[0] // 2\n",
        "            inputs = tf.pad(inputs, [[0,0], [kh, kh], [kh, kh], [0,0]], constant_values=1.)\n",
        "        \n",
        "        # 2. Perform convolution\n",
        "        outputs = K.conv2d(\n",
        "            inputs,\n",
        "            binary_kernel,\n",
        "            strides=self.strides,\n",
        "            padding='valid',\n",
        "            data_format=self.data_format,\n",
        "            dilation_rate=self.dilation_rate)\n",
        "        \n",
        "        return outputs"
      ],
      "execution_count": 0,
      "outputs": []
    },
    {
      "metadata": {
        "id": "y65wFEzJRG2S",
        "colab_type": "code",
        "colab": {}
      },
      "cell_type": "code",
      "source": [
        "epochs = 20\n",
        "# learning rate schedule\n",
        "lr_start = 1e-3\n",
        "lr_end = 1e-4\n",
        "lr_decay = (lr_end / lr_start)**(1. / epochs)\n",
        "\n",
        "# BN\n",
        "epsilon = 1e-6  # default 1e-3\n",
        "momentum = 0.9  # default 0.99"
      ],
      "execution_count": 0,
      "outputs": []
    },
    {
      "metadata": {
        "id": "1rv1YlKKRIzo",
        "colab_type": "code",
        "colab": {
          "base_uri": "https://localhost:8080/",
          "height": 51
        },
        "outputId": "377c3d69-0700-4a80-9567-ce6b77165c25"
      },
      "cell_type": "code",
      "source": [
        "# the data, shuffled and split between train and test sets\n",
        "dataset = 'mnist'\n",
        "train = 'softmax'\n",
        "\n",
        "\n",
        "if dataset == 'mnist':\n",
        "    (X_train, y_train), (X_test, y_test) = mnist.load_data()\n",
        "    X_train = X_train.reshape(60000, 28, 28, 1)\n",
        "    X_test = X_test.reshape(10000, 28, 28, 1)\n",
        "elif dataset == 'cifar10':\n",
        "    (X_train, y_train), (X_test, y_test) = cifar10.load_data()\n",
        "    \n",
        "X_train = X_train.astype('float32') / 255.\n",
        "X_test = X_test.astype('float32') / 255.\n",
        "\n",
        "print(X_train.shape[0], 'train samples')\n",
        "print(X_test.shape[0], 'test samples')\n",
        "\n",
        "# convert class vectors to binary class matrices\n",
        "classes = y_train.max() + 1\n",
        "\n",
        "if train == 'hinge':\n",
        "    Y_train = np_utils.to_categorical(y_train, classes) * 2 - 1 # -1 or 1 for hinge loss\n",
        "    Y_test = np_utils.to_categorical(y_test, classes) * 2 - 1\n",
        "elif train == 'softmax':\n",
        "    Y_train = Y_train = np_utils.to_categorical(y_train, classes)\n",
        "    Y_test = np_utils.to_categorical(y_test, classes)"
      ],
      "execution_count": 5,
      "outputs": [
        {
          "output_type": "stream",
          "text": [
            "60000 train samples\n",
            "10000 test samples\n"
          ],
          "name": "stdout"
        }
      ]
    },
    {
      "metadata": {
        "id": "gOD4WemORLjm",
        "colab_type": "code",
        "colab": {}
      },
      "cell_type": "code",
      "source": [
        "model = Sequential()\n",
        "\n",
        "\n",
        "# conv1\n",
        "model.add(BinaryConv2D(32, (3,3), name='conv1', input_shape=X_train.shape[1:]))\n",
        "model.add(BatchNormalization(epsilon=epsilon, momentum=momentum, name='bn1'))\n",
        "model.add(Activation(binary_tanh, name='act1'))\n",
        "# conv2\n",
        "model.add(BinaryConv2D(32, (3,3), name='conv2'))\n",
        "model.add(BatchNormalization(epsilon=epsilon, momentum=momentum, name='bn2'))\n",
        "model.add(Activation(binary_tanh, name='act2'))\n",
        "\n",
        "model.add(MaxPooling2D(name='pool2'))\n",
        "\n",
        "# conv3\n",
        "model.add(BinaryConv2D(64, (3,3), name='conv3'))\n",
        "model.add(BatchNormalization(epsilon=epsilon, momentum=momentum, name='bn3'))\n",
        "model.add(Activation(binary_tanh, name='act3'))\n",
        "# conv4\n",
        "model.add(BinaryConv2D(64, (3,3), name='conv4'))\n",
        "model.add(BatchNormalization(epsilon=epsilon, momentum=momentum, name='bn4'))\n",
        "model.add(Activation(binary_tanh, name='act4'))\n",
        "\n",
        "model.add(MaxPooling2D(name='pool4'))\n",
        "\n",
        "model.add(Flatten())\n",
        "# dense1\n",
        "model.add(BinaryDense(128, name='dense5'))\n",
        "model.add(BatchNormalization(epsilon=epsilon, momentum=momentum, name='bn5'))\n",
        "model.add(Activation(binary_tanh, name='act5'))\n",
        "# dense2\n",
        "model.add(BinaryDense(classes, name='dense6'))\n",
        "model.add(BatchNormalization(epsilon=epsilon, momentum=momentum, name='bn6'))\n",
        "\n",
        "if train =='softmax':\n",
        "    model.add(Activation('softmax'))"
      ],
      "execution_count": 0,
      "outputs": []
    },
    {
      "metadata": {
        "id": "jg_on0asRPqC",
        "colab_type": "code",
        "colab": {
          "base_uri": "https://localhost:8080/",
          "height": 850
        },
        "outputId": "493ca386-637c-4866-edc4-d971e6da8113"
      },
      "cell_type": "code",
      "source": [
        "opt = Adam(lr=lr_start)\n",
        "\n",
        "if train == 'softmax':\n",
        "    loss = 'categorical_crossentropy'\n",
        "elif train == 'hinge':\n",
        "    loss = 'squared_hinge'\n",
        "\n",
        "model.compile(loss=loss, optimizer=opt, metrics=['acc'])\n",
        "model.summary()\n",
        "\n",
        "lr_scheduler = LearningRateScheduler(lambda e: lr_start * lr_decay ** e)"
      ],
      "execution_count": 7,
      "outputs": [
        {
          "output_type": "stream",
          "text": [
            "_________________________________________________________________\n",
            "Layer (type)                 Output Shape              Param #   \n",
            "=================================================================\n",
            "conv1 (BinaryConv2D)         (None, 28, 28, 32)        288       \n",
            "_________________________________________________________________\n",
            "bn1 (BatchNormalization)     (None, 28, 28, 32)        128       \n",
            "_________________________________________________________________\n",
            "act1 (Activation)            (None, 28, 28, 32)        0         \n",
            "_________________________________________________________________\n",
            "conv2 (BinaryConv2D)         (None, 28, 28, 32)        9216      \n",
            "_________________________________________________________________\n",
            "bn2 (BatchNormalization)     (None, 28, 28, 32)        128       \n",
            "_________________________________________________________________\n",
            "act2 (Activation)            (None, 28, 28, 32)        0         \n",
            "_________________________________________________________________\n",
            "pool2 (MaxPooling2D)         (None, 14, 14, 32)        0         \n",
            "_________________________________________________________________\n",
            "conv3 (BinaryConv2D)         (None, 14, 14, 64)        18432     \n",
            "_________________________________________________________________\n",
            "bn3 (BatchNormalization)     (None, 14, 14, 64)        256       \n",
            "_________________________________________________________________\n",
            "act3 (Activation)            (None, 14, 14, 64)        0         \n",
            "_________________________________________________________________\n",
            "conv4 (BinaryConv2D)         (None, 14, 14, 64)        36864     \n",
            "_________________________________________________________________\n",
            "bn4 (BatchNormalization)     (None, 14, 14, 64)        256       \n",
            "_________________________________________________________________\n",
            "act4 (Activation)            (None, 14, 14, 64)        0         \n",
            "_________________________________________________________________\n",
            "pool4 (MaxPooling2D)         (None, 7, 7, 64)          0         \n",
            "_________________________________________________________________\n",
            "flatten_1 (Flatten)          (None, 3136)              0         \n",
            "_________________________________________________________________\n",
            "dense5 (BinaryDense)         (None, 128)               401408    \n",
            "_________________________________________________________________\n",
            "bn5 (BatchNormalization)     (None, 128)               512       \n",
            "_________________________________________________________________\n",
            "act5 (Activation)            (None, 128)               0         \n",
            "_________________________________________________________________\n",
            "dense6 (BinaryDense)         (None, 10)                1280      \n",
            "_________________________________________________________________\n",
            "bn6 (BatchNormalization)     (None, 10)                40        \n",
            "_________________________________________________________________\n",
            "activation_1 (Activation)    (None, 10)                0         \n",
            "=================================================================\n",
            "Total params: 468,808\n",
            "Trainable params: 468,148\n",
            "Non-trainable params: 660\n",
            "_________________________________________________________________\n"
          ],
          "name": "stdout"
        }
      ]
    },
    {
      "metadata": {
        "id": "kIWxmA2kRTDp",
        "colab_type": "code",
        "colab": {
          "base_uri": "https://localhost:8080/",
          "height": 714
        },
        "outputId": "8a30c075-1700-41b8-8a5d-b86ffe3ec34a"
      },
      "cell_type": "code",
      "source": [
        "history = model.fit(X_train, Y_train,\n",
        "                    validation_data=(X_test, Y_test),\n",
        "                    batch_size=256, epochs=epochs,\n",
        "                    callbacks=[lr_scheduler])"
      ],
      "execution_count": 8,
      "outputs": [
        {
          "output_type": "stream",
          "text": [
            "Train on 60000 samples, validate on 10000 samples\n",
            "Epoch 1/20\n",
            "60000/60000 [==============================] - 23s 383us/step - loss: 1.4256 - acc: 0.5716 - val_loss: 0.9220 - val_acc: 0.7818\n",
            "Epoch 2/20\n",
            "59392/60000 [============================>.] - ETA: 0s - loss: 0.7796 - acc: 0.8192"
          ],
          "name": "stdout"
        },
        {
          "output_type": "stream",
          "text": [
            "60000/60000 [==============================] - 21s 342us/step - loss: 0.7783 - acc: 0.8195 - val_loss: 0.6467 - val_acc: 0.8608\n",
            "Epoch 3/20\n",
            "60000/60000 [==============================] - 21s 342us/step - loss: 0.5820 - acc: 0.8686 - val_loss: 0.5395 - val_acc: 0.8815\n",
            "Epoch 4/20\n",
            "33280/60000 [===============>..............] - ETA: 8s - loss: 0.4842 - acc: 0.8893"
          ],
          "name": "stdout"
        },
        {
          "output_type": "stream",
          "text": [
            "60000/60000 [==============================] - 21s 343us/step - loss: 0.4608 - acc: 0.8956 - val_loss: 0.4062 - val_acc: 0.9123\n",
            "Epoch 5/20\n",
            "60000/60000 [==============================] - 21s 342us/step - loss: 0.3909 - acc: 0.9109 - val_loss: 0.3673 - val_acc: 0.9209\n",
            "Epoch 6/20\n",
            "27392/60000 [============>.................] - ETA: 10s - loss: 0.3479 - acc: 0.9225"
          ],
          "name": "stdout"
        },
        {
          "output_type": "stream",
          "text": [
            "60000/60000 [==============================] - 21s 342us/step - loss: 0.3386 - acc: 0.9231 - val_loss: 0.3249 - val_acc: 0.9301\n",
            "Epoch 7/20\n",
            "60000/60000 [==============================] - 21s 343us/step - loss: 0.2988 - acc: 0.9320 - val_loss: 0.2857 - val_acc: 0.9323\n",
            "Epoch 8/20\n",
            "25856/60000 [===========>..................] - ETA: 11s - loss: 0.2753 - acc: 0.9378"
          ],
          "name": "stdout"
        },
        {
          "output_type": "stream",
          "text": [
            "60000/60000 [==============================] - 21s 342us/step - loss: 0.2703 - acc: 0.9380 - val_loss: 0.2653 - val_acc: 0.9398\n",
            "Epoch 9/20\n",
            "60000/60000 [==============================] - 21s 342us/step - loss: 0.2458 - acc: 0.9431 - val_loss: 0.2435 - val_acc: 0.9443\n",
            "Epoch 10/20\n",
            "25600/60000 [===========>..................] - ETA: 11s - loss: 0.2406 - acc: 0.9427"
          ],
          "name": "stdout"
        },
        {
          "output_type": "stream",
          "text": [
            "60000/60000 [==============================] - 21s 343us/step - loss: 0.2335 - acc: 0.9445 - val_loss: 0.2591 - val_acc: 0.9432\n",
            "Epoch 11/20\n",
            "60000/60000 [==============================] - 21s 342us/step - loss: 0.2227 - acc: 0.9474 - val_loss: 0.2475 - val_acc: 0.9437\n",
            "Epoch 12/20\n",
            "25344/60000 [===========>..................] - ETA: 11s - loss: 0.2102 - acc: 0.9493"
          ],
          "name": "stdout"
        },
        {
          "output_type": "stream",
          "text": [
            "60000/60000 [==============================] - 21s 343us/step - loss: 0.2076 - acc: 0.9497 - val_loss: 0.2717 - val_acc: 0.9407\n",
            "Epoch 13/20\n",
            "60000/60000 [==============================] - 21s 343us/step - loss: 0.1973 - acc: 0.9529 - val_loss: 0.2911 - val_acc: 0.9324\n",
            "Epoch 14/20\n",
            "25088/60000 [===========>..................] - ETA: 11s - loss: 0.1910 - acc: 0.9550"
          ],
          "name": "stdout"
        },
        {
          "output_type": "stream",
          "text": [
            "60000/60000 [==============================] - 21s 343us/step - loss: 0.1897 - acc: 0.9539 - val_loss: 0.1927 - val_acc: 0.9550\n",
            "Epoch 15/20\n",
            "60000/60000 [==============================] - 21s 343us/step - loss: 0.1847 - acc: 0.9535 - val_loss: 0.2066 - val_acc: 0.9519\n",
            "Epoch 16/20\n",
            "25088/60000 [===========>..................] - ETA: 11s - loss: 0.1833 - acc: 0.9552"
          ],
          "name": "stdout"
        },
        {
          "output_type": "stream",
          "text": [
            "60000/60000 [==============================] - 21s 342us/step - loss: 0.1777 - acc: 0.9564 - val_loss: 0.2257 - val_acc: 0.9480\n",
            "Epoch 17/20\n",
            "60000/60000 [==============================] - 20s 341us/step - loss: 0.1743 - acc: 0.9567 - val_loss: 0.1995 - val_acc: 0.9541\n",
            "Epoch 18/20\n",
            "25088/60000 [===========>..................] - ETA: 11s - loss: 0.1694 - acc: 0.9592"
          ],
          "name": "stdout"
        },
        {
          "output_type": "stream",
          "text": [
            "60000/60000 [==============================] - 21s 342us/step - loss: 0.1679 - acc: 0.9597 - val_loss: 0.1825 - val_acc: 0.9574\n",
            "Epoch 19/20\n",
            "60000/60000 [==============================] - 21s 342us/step - loss: 0.1656 - acc: 0.9588 - val_loss: 0.1868 - val_acc: 0.9560\n",
            "Epoch 20/20\n",
            "25088/60000 [===========>..................] - ETA: 11s - loss: 0.1635 - acc: 0.9584"
          ],
          "name": "stdout"
        },
        {
          "output_type": "stream",
          "text": [
            "60000/60000 [==============================] - 21s 343us/step - loss: 0.1641 - acc: 0.9586 - val_loss: 0.1651 - val_acc: 0.9603\n"
          ],
          "name": "stdout"
        }
      ]
    },
    {
      "metadata": {
        "id": "b2fAO6dmvrQy",
        "colab_type": "code",
        "colab": {
          "base_uri": "https://localhost:8080/",
          "height": 364
        },
        "outputId": "3724f4f9-1515-4758-fc27-7d2b90f6a0b9"
      },
      "cell_type": "code",
      "source": [
        "import matplotlib.pyplot as plt\n",
        "\n",
        "plt.plot(history.history['acc'], label='train')\n",
        "plt.plot(history.history['val_acc'], label='test')\n",
        "plt.grid()\n",
        "plt.legend()\n",
        "plt.plot()"
      ],
      "execution_count": 10,
      "outputs": [
        {
          "output_type": "execute_result",
          "data": {
            "text/plain": [
              "[]"
            ]
          },
          "metadata": {
            "tags": []
          },
          "execution_count": 10
        },
        {
          "output_type": "display_data",
          "data": {
            "image/png": "[encoded data removed]",
            "text/plain": [
              "<matplotlib.figure.Figure at 0x7f0a35b97588>"
            ]
          },
          "metadata": {
            "tags": []
          }
        }
      ]
    }
  ]
}